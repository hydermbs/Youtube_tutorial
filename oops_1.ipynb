{
 "cells": [
  {
   "cell_type": "code",
   "execution_count": null,
   "metadata": {},
   "outputs": [],
   "source": [
    "class car:\n",
    "    def __init__(self,color,model,engine):\n",
    "        self.col = color\n",
    "        self.mod = model\n",
    "        self.eng = engine\n",
    "\n"
   ]
  },
  {
   "cell_type": "code",
   "execution_count": null,
   "metadata": {},
   "outputs": [
    {
     "data": {
      "text/plain": [
       "'Honda'"
      ]
     },
     "execution_count": 7,
     "metadata": {},
     "output_type": "execute_result"
    }
   ],
   "source": [
    "car1 = car('Black','Toyota',2000)\n",
    "car2 = car('Red','Honda',1500)\n",
    "car3 = car('Blue','Kia',2500)"
   ]
  },
  {
   "cell_type": "code",
   "execution_count": 8,
   "metadata": {},
   "outputs": [
    {
     "data": {
      "text/plain": [
       "'Black'"
      ]
     },
     "execution_count": 8,
     "metadata": {},
     "output_type": "execute_result"
    }
   ],
   "source": [
    "car1.col"
   ]
  },
  {
   "cell_type": "code",
   "execution_count": 9,
   "metadata": {},
   "outputs": [
    {
     "data": {
      "text/plain": [
       "'Toyota'"
      ]
     },
     "execution_count": 9,
     "metadata": {},
     "output_type": "execute_result"
    }
   ],
   "source": [
    "car1.mod"
   ]
  },
  {
   "cell_type": "code",
   "execution_count": 10,
   "metadata": {},
   "outputs": [],
   "source": [
    "class Ninth:\n",
    "    def __init__(self,name,gender,age):\n",
    "        self.name = name\n",
    "        self.gender = gender\n",
    "        self.age = age\n",
    "    def result(self):\n",
    "        print(f'{self.name} is pass')"
   ]
  },
  {
   "cell_type": "code",
   "execution_count": 11,
   "metadata": {},
   "outputs": [],
   "source": [
    "student1 = Ninth('Fida Hussain','Male',16)\n",
    "student2 = Ninth('Suwaibia','Female',13)\n"
   ]
  },
  {
   "cell_type": "code",
   "execution_count": null,
   "metadata": {},
   "outputs": [],
   "source": []
  },
  {
   "cell_type": "code",
   "execution_count": 14,
   "metadata": {},
   "outputs": [
    {
     "name": "stdout",
     "output_type": "stream",
     "text": [
      "Suwaibia is pass\n"
     ]
    }
   ],
   "source": [
    "student2.result()"
   ]
  },
  {
   "cell_type": "code",
   "execution_count": null,
   "metadata": {},
   "outputs": [],
   "source": [
    "class Ninth:\n",
    "    def __init__(self,name,gender,age):\n",
    "        self.name = name\n",
    "        self.gender = gender\n",
    "        self.age = age\n",
    "        \n",
    "    def result(self,marks):\n",
    "        if marks >=40:\n",
    "            print(f'{self.name} is pass')\n",
    "        else:\n",
    "            print(f'{self.name} is not pass')"
   ]
  },
  {
   "cell_type": "code",
   "execution_count": 16,
   "metadata": {},
   "outputs": [],
   "source": [
    "student1 = Ninth('Fida Hussain','Male',16)\n",
    "student2 = Ninth('Suwaibia','Female',13)\n",
    "student3 = Ninth('Hyder','Male',14)"
   ]
  },
  {
   "cell_type": "code",
   "execution_count": null,
   "metadata": {},
   "outputs": [
    {
     "name": "stdout",
     "output_type": "stream",
     "text": [
      "Fida Hussain is pass\n"
     ]
    }
   ],
   "source": [
    "student1.result(50)\n"
   ]
  },
  {
   "cell_type": "code",
   "execution_count": 18,
   "metadata": {},
   "outputs": [
    {
     "name": "stdout",
     "output_type": "stream",
     "text": [
      "Hyder is not pass\n"
     ]
    }
   ],
   "source": [
    "student3.result(20)"
   ]
  },
  {
   "cell_type": "code",
   "execution_count": null,
   "metadata": {},
   "outputs": [],
   "source": [
    "class Employees:\n",
    "    def __init__(self,name,salary,age,desig):\n",
    "        self.name = name\n",
    "        self.salary = salary\n",
    "        self.age = age\n",
    "        self.design = desig\n",
    "        \n",
    "    def attendance(self,status):\n",
    "        if status=='present':\n",
    "            print(f'{self.name} is present')\n",
    "        elif status == 'Leave':\n",
    "            print(f'{self.name} is on Leave')\n",
    "        else:\n",
    "            print(f'{self.name} is absent')\n"
   ]
  },
  {
   "cell_type": "code",
   "execution_count": 21,
   "metadata": {},
   "outputs": [],
   "source": [
    "employee_1 = Employees('Hyder',10000,33,'Teacher')"
   ]
  },
  {
   "cell_type": "code",
   "execution_count": 22,
   "metadata": {},
   "outputs": [
    {
     "data": {
      "text/plain": [
       "'Hyder'"
      ]
     },
     "execution_count": 22,
     "metadata": {},
     "output_type": "execute_result"
    }
   ],
   "source": [
    "employee_1.name"
   ]
  },
  {
   "cell_type": "code",
   "execution_count": 23,
   "metadata": {},
   "outputs": [
    {
     "data": {
      "text/plain": [
       "10000"
      ]
     },
     "execution_count": 23,
     "metadata": {},
     "output_type": "execute_result"
    }
   ],
   "source": [
    "employee_1.salary"
   ]
  },
  {
   "cell_type": "code",
   "execution_count": 26,
   "metadata": {},
   "outputs": [
    {
     "name": "stdout",
     "output_type": "stream",
     "text": [
      "Hyder is on Leave\n"
     ]
    }
   ],
   "source": [
    "employee_1.attendance('Leave')"
   ]
  },
  {
   "cell_type": "code",
   "execution_count": null,
   "metadata": {},
   "outputs": [],
   "source": [
    "class Employees:\n",
    "    def __init__(self,name,salary,age,desig):\n",
    "        self.name = name\n",
    "        self.salary = salary\n",
    "        self.age = age\n",
    "        self.design = desig\n",
    "        \n",
    "    def attendance(self,status):\n",
    "        if status=='present':\n",
    "            return 'present'\n",
    "        elif status == 'Leave':\n",
    "            print(f'{self.name} is on Leave')\n",
    "        else:\n",
    "            print(f'{self.name} is absent')\n",
    "            return 'absent'\n",
    "    def net_salary(self,stat):\n",
    "        if stat=='present':\n",
    "            salary = self.salary\n",
    "        else:\n",
    "            salary = self.salary-100\n",
    "        return salary"
   ]
  },
  {
   "cell_type": "code",
   "execution_count": 34,
   "metadata": {},
   "outputs": [],
   "source": [
    "employee_1 = Employees('Hyder',10000,33,'Teacher')\n",
    "\n"
   ]
  },
  {
   "cell_type": "code",
   "execution_count": 37,
   "metadata": {},
   "outputs": [
    {
     "name": "stdout",
     "output_type": "stream",
     "text": [
      "ab\n"
     ]
    }
   ],
   "source": [
    "status = input('Enter your attendance').lower()\n",
    "print(status)\n"
   ]
  },
  {
   "cell_type": "code",
   "execution_count": 38,
   "metadata": {},
   "outputs": [
    {
     "name": "stdout",
     "output_type": "stream",
     "text": [
      "Hyder is absent\n",
      "absent\n"
     ]
    }
   ],
   "source": [
    "attandance = employee_1.attendance(status)\n",
    "print(attandance)\n"
   ]
  },
  {
   "cell_type": "code",
   "execution_count": 39,
   "metadata": {},
   "outputs": [
    {
     "name": "stdout",
     "output_type": "stream",
     "text": [
      "Hyder net salary is 9900\n"
     ]
    }
   ],
   "source": [
    "net_salary = employee_1.net_salary(attandance)\n",
    "print(f'{employee_1.name} net salary is {net_salary}')"
   ]
  },
  {
   "cell_type": "code",
   "execution_count": 46,
   "metadata": {},
   "outputs": [],
   "source": [
    "class Real_estate:\n",
    "    def __init__(self,num,size,landmark,price):\n",
    "        self.number = num\n",
    "        self.size = size\n",
    "        self.land = landmark\n",
    "        self.price = price\n",
    "    def visit(self,visitor):\n",
    "        print(f'{visitor} will house number {self.number} which is near {self.land} and its price is {self.price}')\n",
    "    "
   ]
  },
  {
   "cell_type": "code",
   "execution_count": 47,
   "metadata": {},
   "outputs": [],
   "source": [
    "house_1 = Real_estate(20,'2 Bed DD','Near Civil Hospital',100000)"
   ]
  },
  {
   "cell_type": "code",
   "execution_count": 45,
   "metadata": {},
   "outputs": [
    {
     "data": {
      "text/plain": [
       "100000"
      ]
     },
     "execution_count": 45,
     "metadata": {},
     "output_type": "execute_result"
    }
   ],
   "source": [
    "house_1.price"
   ]
  },
  {
   "cell_type": "code",
   "execution_count": 49,
   "metadata": {},
   "outputs": [
    {
     "name": "stdout",
     "output_type": "stream",
     "text": [
      "Fida Hussain will house number 20 which is near Near Civil Hospital and its price is 100000\n"
     ]
    }
   ],
   "source": [
    "visitor = 'Fida Hussain'\n",
    "house_1.visit(visitor)\n"
   ]
  },
  {
   "cell_type": "code",
   "execution_count": 50,
   "metadata": {},
   "outputs": [],
   "source": [
    "class Markers:\n",
    "    def __init__(self,color, company,price,nib):\n",
    "        self.color = color\n",
    "        self.company = company\n",
    "        self.price = price\n",
    "        self.nib = nib\n",
    "    \n",
    "    def write(self,cond):\n",
    "        if cond == 'open':\n",
    "            print(f'{self.color} marker of {self.company} which price is {self.price} will write with {self.nib}')\n",
    "        else:\n",
    "            print(f'{self.color} marker of {self.company} will not write')"
   ]
  },
  {
   "cell_type": "code",
   "execution_count": 51,
   "metadata": {},
   "outputs": [],
   "source": [
    "marker_1 = Markers('Blue','Deer',100,'Pointed')"
   ]
  },
  {
   "cell_type": "code",
   "execution_count": 52,
   "metadata": {},
   "outputs": [
    {
     "data": {
      "text/plain": [
       "'Blue'"
      ]
     },
     "execution_count": 52,
     "metadata": {},
     "output_type": "execute_result"
    }
   ],
   "source": [
    "marker_1.color"
   ]
  },
  {
   "cell_type": "code",
   "execution_count": 53,
   "metadata": {},
   "outputs": [
    {
     "data": {
      "text/plain": [
       "100"
      ]
     },
     "execution_count": 53,
     "metadata": {},
     "output_type": "execute_result"
    }
   ],
   "source": [
    "marker_1.price"
   ]
  },
  {
   "cell_type": "code",
   "execution_count": 55,
   "metadata": {},
   "outputs": [
    {
     "name": "stdout",
     "output_type": "stream",
     "text": [
      "Blue marker of Deer will not write\n"
     ]
    }
   ],
   "source": [
    "marker_1.write('close')"
   ]
  },
  {
   "cell_type": "code",
   "execution_count": null,
   "metadata": {},
   "outputs": [],
   "source": []
  }
 ],
 "metadata": {
  "kernelspec": {
   "display_name": "Python 3",
   "language": "python",
   "name": "python3"
  },
  "language_info": {
   "codemirror_mode": {
    "name": "ipython",
    "version": 3
   },
   "file_extension": ".py",
   "mimetype": "text/x-python",
   "name": "python",
   "nbconvert_exporter": "python",
   "pygments_lexer": "ipython3",
   "version": "3.12.3"
  }
 },
 "nbformat": 4,
 "nbformat_minor": 2
}
